{
 "cells": [
  {
   "cell_type": "markdown",
   "metadata": {},
   "source": [
    "# 3. Evaluate Model"
   ]
  },
  {
   "cell_type": "code",
   "execution_count": 1,
   "metadata": {
    "collapsed": true
   },
   "outputs": [
    {
     "name": "stderr",
     "output_type": "stream",
     "text": [
      "/home/dustin/anaconda3/envs/tensorflow/lib/python3.6/site-packages/h5py/__init__.py:36: FutureWarning: Conversion of the second argument of issubdtype from `float` to `np.floating` is deprecated. In future, it will be treated as `np.float64 == np.dtype(float).type`.\n",
      "  from ._conv import register_converters as _register_converters\n",
      "Using TensorFlow backend.\n",
      "/home/dustin/anaconda3/envs/tensorflow/lib/python3.6/importlib/_bootstrap.py:219: RuntimeWarning: compiletime version 3.5 of module 'tensorflow.python.framework.fast_tensor_util' does not match runtime version 3.6\n",
      "  return f(*args, **kwds)\n"
     ]
    }
   ],
   "source": [
    "import keras"
   ]
  },
  {
   "cell_type": "code",
   "execution_count": 2,
   "metadata": {
    "collapsed": true
   },
   "outputs": [],
   "source": [
    "from sklearn.metrics import confusion_matrix"
   ]
  },
  {
   "cell_type": "code",
   "execution_count": 3,
   "metadata": {
    "collapsed": true
   },
   "outputs": [],
   "source": [
    "import pandas as pd\n",
    "import numpy as np\n",
    "import pickle\n",
    "import os"
   ]
  },
  {
   "cell_type": "code",
   "execution_count": 4,
   "metadata": {
    "collapsed": true
   },
   "outputs": [],
   "source": [
    "#pickle_path = 'Pickled/Small_Train/'\n",
    "\n",
    "#pickle_path = 'Pickled/Train_Data/'\n",
    "\n",
    "pickle_path = 'Pickled/Test_Data/'"
   ]
  },
  {
   "cell_type": "markdown",
   "metadata": {},
   "source": [
    "# 3.1 Define data generator"
   ]
  },
  {
   "cell_type": "code",
   "execution_count": 5,
   "metadata": {
    "collapsed": true
   },
   "outputs": [],
   "source": [
    "# Returns i-th chunk of X,y data at path.\n",
    "def Data_Gen(X_path, y_path):\n",
    "        \n",
    "    file = open(pickle_path + \"Spectra/\" + X_path,\"rb\")\n",
    "    X=pickle.load(file)\n",
    "    file.close()\n",
    "    \n",
    "    # I'm going to feed this into a pretrained Vgg16 model which expects a 3 channel image input.\n",
    "    # Requires more memory, but less work. \n",
    "    X = np.stack((X,)*3, -1)\n",
    "    \n",
    "    \n",
    "    file = open(pickle_path + \"Targets/\" + y_path,\"rb\")\n",
    "    y=pickle.load(file)\n",
    "    file.close()\n",
    "    \n",
    "    # Convert y to one-hot\n",
    "    y = keras.utils.np_utils.to_categorical(y)        \n",
    "    \n",
    "    return X,y"
   ]
  },
  {
   "cell_type": "markdown",
   "metadata": {},
   "source": [
    "# 3.2 Load & Test Previously Trained Model"
   ]
  },
  {
   "cell_type": "code",
   "execution_count": 10,
   "metadata": {},
   "outputs": [],
   "source": [
    "model = keras.models.load_model(\"Model/Wingbeats_Cat_X_Entropy_V3.h5\")"
   ]
  },
  {
   "cell_type": "markdown",
   "metadata": {},
   "source": [
    "### The above model was trained all all ~18 GB of data"
   ]
  },
  {
   "cell_type": "code",
   "execution_count": 11,
   "metadata": {},
   "outputs": [
    {
     "name": "stdout",
     "output_type": "stream",
     "text": [
      "Working...\n",
      "100.0% complete\r"
     ]
    }
   ],
   "source": [
    "loss = []\n",
    "accuracy = []\n",
    "\n",
    "X_files = sorted(os.listdir(pickle_path + \"Spectra\"))\n",
    "y_files = sorted(os.listdir(pickle_path + \"Targets\"))\n",
    "iteration = 0\n",
    "\n",
    "print(\"Working...\")\n",
    "for X,y in zip(X_files, y_files):\n",
    "    \n",
    "    X_test, y_test = Data_Gen(X, y)            \n",
    "    results = model.evaluate(X_test, y_test, verbose=0)\n",
    "    \n",
    "    \n",
    "    loss.append(results[0])\n",
    "    accuracy.append(results[1])\n",
    "    \n",
    "    \n",
    "    iteration+=1\n",
    "    percent_complete = round(100*iteration/len(y_files), 2)\n",
    "    print(str(percent_complete) + '% complete', end='\\r', flush=True)\n",
    "    "
   ]
  },
  {
   "cell_type": "markdown",
   "metadata": {},
   "source": [
    "### Let's get some stats on the test data..."
   ]
  },
  {
   "cell_type": "code",
   "execution_count": 12,
   "metadata": {},
   "outputs": [
    {
     "name": "stdout",
     "output_type": "stream",
     "text": [
      "Mean Accuracy: 0.755\n",
      "2 sigma error: 0.026\n",
      "Mean Loss: 0.781\n",
      "2 sigma error: 0.084\n"
     ]
    }
   ],
   "source": [
    "print(\"Mean Accuracy: \" + str(round(np.mean(accuracy),3)))\n",
    "print(\"2 sigma error: \" + str(round(2*np.std(accuracy),3)))\n",
    "print(\"Mean Loss: \"     + str(round(np.mean(loss),3)))\n",
    "print(\"2 sigma error: \" + str(round(2*np.std(loss),3)))"
   ]
  },
  {
   "cell_type": "markdown",
   "metadata": {},
   "source": [
    "### Gets an accuracy of about 75%... Lets's see where things go awry."
   ]
  },
  {
   "cell_type": "markdown",
   "metadata": {},
   "source": [
    "# 3.3 Confusion Matrix"
   ]
  },
  {
   "cell_type": "code",
   "execution_count": 13,
   "metadata": {},
   "outputs": [
    {
     "name": "stdout",
     "output_type": "stream",
     "text": [
      "100.0% complete\r"
     ]
    }
   ],
   "source": [
    "y_pred=[]\n",
    "y_true=[]\n",
    "\n",
    "iteration = 0\n",
    "\n",
    "for X,y in zip(X_files, y_files):\n",
    "    \n",
    "    X_test, y_test = Data_Gen(X, y)            \n",
    "    predicted_class=model.predict(X_test)\n",
    "\n",
    "    for predicted, true in zip(predicted_class, y_test):\n",
    "    \n",
    "        y_pred.append(np.argmax(predicted))\n",
    "        y_true.append(np.argmax(true))\n",
    "        \n",
    "    iteration+=1\n",
    "    percent_complete = round(100*iteration/len(y_files), 2)\n",
    "    print(str(percent_complete) + '% complete', end='\\r', flush=True)\n"
   ]
  },
  {
   "cell_type": "code",
   "execution_count": 20,
   "metadata": {},
   "outputs": [],
   "source": [
    "CM = confusion_matrix(y_pred,y_true)\n",
    "\n",
    "CM = CM.astype('float') / CM.sum(axis=1)[:, np.newaxis]"
   ]
  },
  {
   "cell_type": "code",
   "execution_count": 21,
   "metadata": {
    "collapsed": true
   },
   "outputs": [],
   "source": [
    "import seaborn as sn\n",
    "import matplotlib.pyplot as plt"
   ]
  },
  {
   "cell_type": "code",
   "execution_count": 23,
   "metadata": {},
   "outputs": [
    {
     "data": {
      "image/png": "[encoded data removed]",
      "text/plain": [
       "<Figure size 720x576 with 2 Axes>"
      ]
     },
     "metadata": {},
     "output_type": "display_data"
    }
   ],
   "source": [
    "plt.figure(figsize = (10,8))\n",
    "sn.set(font_scale=1.4)\n",
    "sn.heatmap(CM, annot=True, annot_kws={\"size\": 16}, fmt='.2f')\n",
    "plt.ylabel('Predicted Class')\n",
    "plt.xlabel('Actual Class')\n",
    "\n",
    "plt.show()"
   ]
  },
  {
   "cell_type": "markdown",
   "metadata": {},
   "source": [
    "### The confusion matrix reveals that: \n",
    "1. Classes 2 and 3 have the best performance.\n",
    "2. Class 4 shows the worst performance.\n",
    "3. Class 1 gets mislabeled as 0 or 4 at a rate of 48%.\n",
    "4. Class 4 gets mislabeled as 1 at a rate of 14%. \n",
    "\n"
   ]
  },
  {
   "cell_type": "markdown",
   "metadata": {},
   "source": [
    "### Definitely room for improvement. "
   ]
  },
  {
   "cell_type": "markdown",
   "metadata": {},
   "source": [
    "### What are the total numbers for each class in the training data anyway?"
   ]
  },
  {
   "cell_type": "code",
   "execution_count": 24,
   "metadata": {},
   "outputs": [
    {
     "name": "stdout",
     "output_type": "stream",
     "text": [
      "[1001. 2367. 4020. 3539.  909. 1476.]\n"
     ]
    }
   ],
   "source": [
    "totals = np.zeros(6)\n",
    "for num in y_true:\n",
    "    \n",
    "    totals[num] += 1\n",
    "    \n",
    "print(totals)"
   ]
  },
  {
   "cell_type": "markdown",
   "metadata": {},
   "source": [
    "### Clearly some classes are weighted heavier than others. If this is true for the training data, then what about the test data?"
   ]
  },
  {
   "cell_type": "code",
   "execution_count": 25,
   "metadata": {
    "collapsed": true
   },
   "outputs": [],
   "source": [
    "#pickle_path = 'Pickled/Small_Train/'\n",
    "\n",
    "pickle_path = 'Pickled/Train_Data/'\n",
    "\n",
    "#pickle_path = 'Pickled/Test_Data/'"
   ]
  },
  {
   "cell_type": "code",
   "execution_count": 37,
   "metadata": {
    "collapsed": true
   },
   "outputs": [
    {
     "name": "stdout",
     "output_type": "stream",
     "text": [
      "1\n",
      "2\n",
      "3\n",
      "4\n",
      "5\n",
      "6\n",
      "7\n",
      "8\n",
      "9\n",
      "10\n",
      "11\n",
      "12\n",
      "13\n",
      "14\n",
      "15\n",
      "16\n",
      "17\n",
      "18\n",
      "19\n",
      "20\n",
      "21\n",
      "22\n",
      "23\n",
      "24\n",
      "25\n",
      "26\n",
      "27\n",
      "28\n",
      "29\n",
      "30\n",
      "31\n",
      "32\n",
      "33\n",
      "34\n",
      "35\n",
      "36\n",
      "37\n",
      "38\n",
      "39\n",
      "40\n",
      "41\n",
      "42\n",
      "43\n",
      "44\n",
      "45\n",
      "46\n",
      "47\n",
      "48\n",
      "49\n",
      "50\n",
      "51\n",
      "52\n",
      "53\n",
      "54\n",
      "55\n",
      "56\n",
      "57\n",
      "58\n",
      "59\n",
      "60\n",
      "61\n",
      "62\n",
      "63\n",
      "64\n",
      "65\n",
      "66\n",
      "67\n",
      "68\n",
      "69\n",
      "70\n",
      "71\n",
      "72\n",
      "73\n",
      "74\n",
      "75\n",
      "76\n",
      "77\n",
      "78\n",
      "79\n",
      "80\n",
      "81\n",
      "82\n",
      "83\n",
      "84\n",
      "85\n",
      "86\n",
      "87\n",
      "88\n",
      "89\n",
      "90\n",
      "91\n",
      "92\n",
      "93\n",
      "94\n",
      "95\n",
      "96\n",
      "97\n",
      "98\n",
      "99\n",
      "100\n",
      "101\n",
      "102\n",
      "103\n",
      "104\n",
      "105\n",
      "106\n",
      "107\n",
      "108\n",
      "109\n",
      "110\n",
      "111\n",
      "112\n",
      "113\n",
      "114\n",
      "115\n",
      "116\n",
      "117\n",
      "118\n",
      "119\n",
      "120\n",
      "121\n",
      "122\n",
      "123\n",
      "124\n",
      "125\n",
      "126\n",
      "127\n",
      "128\n",
      "129\n",
      "130\n",
      "131\n",
      "132\n",
      "133\n",
      "134\n",
      "135\n",
      "136\n",
      "137\n",
      "138\n",
      "139\n",
      "140\n",
      "141\n",
      "142\n",
      "143\n",
      "144\n",
      "145\n",
      "146\n",
      "147\n",
      "148\n",
      "149\n",
      "150\n",
      "151\n",
      "152\n",
      "153\n",
      "154\n",
      "155\n",
      "156\n",
      "157\n",
      "158\n",
      "159\n",
      "160\n",
      "161\n",
      "162\n",
      "163\n",
      "164\n",
      "165\n",
      "166\n",
      "167\n",
      "168\n",
      "169\n",
      "170\n",
      "171\n",
      "172\n",
      "173\n",
      "174\n",
      "175\n",
      "176\n",
      "177\n",
      "178\n",
      "179\n",
      "180\n",
      "181\n",
      "182\n",
      "183\n",
      "184\n",
      "185\n",
      "186\n",
      "187\n",
      "188\n",
      "189\n",
      "190\n",
      "191\n",
      "192\n",
      "193\n",
      "194\n",
      "195\n",
      "196\n",
      "197\n",
      "198\n",
      "199\n",
      "200\n",
      "201\n",
      "202\n",
      "203\n",
      "204\n",
      "205\n",
      "206\n",
      "207\n",
      "208\n",
      "209\n",
      "210\n",
      "211\n",
      "212\n",
      "213\n",
      "214\n",
      "215\n",
      "216\n",
      "217\n",
      "218\n",
      "219\n",
      "220\n",
      "221\n",
      "222\n",
      "223\n",
      "224\n",
      "225\n",
      "226\n",
      "227\n",
      "228\n",
      "229\n",
      "230\n",
      "231\n",
      "232\n",
      "233\n",
      "234\n",
      "235\n",
      "236\n",
      "237\n",
      "238\n",
      "239\n",
      "240\n",
      "241\n",
      "242\n",
      "243\n",
      "244\n",
      "245\n",
      "246\n",
      "247\n",
      "248\n",
      "249\n",
      "250\n",
      "251\n",
      "252\n",
      "253\n",
      "254\n",
      "255\n",
      "256\n",
      "257\n",
      "258\n",
      "259\n",
      "260\n"
     ]
    }
   ],
   "source": [
    "X_files = sorted(os.listdir(pickle_path + \"Spectra\"))\n",
    "y_files = sorted(os.listdir(pickle_path + \"Targets\"))\n",
    "\n",
    "totals = np.zeros(6)\n",
    "iteration = 0\n",
    "\n",
    "for X,y in zip(X_files, y_files):\n",
    "    \n",
    "    X_test, y_test = Data_Gen(X, y)            \n",
    " \n",
    "    for cat in y_test:\n",
    "        \n",
    "        totals[np.argmax(cat)] += 1\n",
    "    \n",
    "    iteration+=1\n",
    "    print(iteration)\n",
    "        \n",
    "    "
   ]
  },
  {
   "cell_type": "code",
   "execution_count": 46,
   "metadata": {},
   "outputs": [],
   "source": [
    "totals_normalized=[]\n",
    "for total in totals:\n",
    "    \n",
    "    totals_normalized.append(total/sum(totals))\n",
    "    "
   ]
  },
  {
   "cell_type": "code",
   "execution_count": 51,
   "metadata": {},
   "outputs": [
    {
     "data": {
      "text/plain": [
       "['0.073', '0.177', '0.306', '0.267', '0.069', '0.109']"
      ]
     },
     "execution_count": 51,
     "metadata": {},
     "output_type": "execute_result"
    }
   ],
   "source": [
    "['%.3f' % elem for elem in totals_normalized]"
   ]
  },
  {
   "cell_type": "markdown",
   "metadata": {},
   "source": [
    "### The training and test data have similar proportians of class numbers. I suspect that the model is not generalizing well because of the asymmetry of training data. About 57% of data used to train the model belongs to classes 2 and 3.  "
   ]
  },
  {
   "cell_type": "markdown",
   "metadata": {},
   "source": [
    "# 3.4 Possible Future Steps"
   ]
  },
  {
   "cell_type": "markdown",
   "metadata": {},
   "source": [
    "### To get better performance, there are a few things I would like to try:"
   ]
  },
  {
   "cell_type": "markdown",
   "metadata": {},
   "source": [
    "1. Retrain model with equal proportions of training data\n",
    "2. Learn how to add Temperature and Humidity data from file names \n",
    "3. Consider trying different pretrained networks, or make one from scratch.\n",
    "4. Finetune Block 4 layers with a very small learning rate to try and optimize feature extraction. "
   ]
  }
 ],
 "metadata": {
  "kernelspec": {
   "display_name": "Python (Tensorflow)",
   "language": "python",
   "name": "tensorflow"
  },
  "language_info": {
   "codemirror_mode": {
    "name": "ipython",
    "version": 3
   },
   "file_extension": ".py",
   "mimetype": "text/x-python",
   "name": "python",
   "nbconvert_exporter": "python",
   "pygments_lexer": "ipython3",
   "version": "3.6.4"
  }
 },
 "nbformat": 4,
 "nbformat_minor": 2
}
