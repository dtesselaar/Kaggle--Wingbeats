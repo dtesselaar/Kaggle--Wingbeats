{
 "cells": [
  {
   "cell_type": "markdown",
   "metadata": {},
   "source": [
    "# 3. Evaluate Model"
   ]
  },
  {
   "cell_type": "markdown",
   "metadata": {},
   "source": [
    "# 3.0 -- Import Relevant Libraries"
   ]
  },
  {
   "cell_type": "code",
   "execution_count": 1,
   "metadata": {
    "collapsed": true
   },
   "outputs": [
    {
     "name": "stderr",
     "output_type": "stream",
     "text": [
      "/home/dustin/anaconda3/envs/tensorflow/lib/python3.6/site-packages/h5py/__init__.py:36: FutureWarning: Conversion of the second argument of issubdtype from `float` to `np.floating` is deprecated. In future, it will be treated as `np.float64 == np.dtype(float).type`.\n",
      "  from ._conv import register_converters as _register_converters\n",
      "Using TensorFlow backend.\n",
      "/home/dustin/anaconda3/envs/tensorflow/lib/python3.6/importlib/_bootstrap.py:219: RuntimeWarning: compiletime version 3.5 of module 'tensorflow.python.framework.fast_tensor_util' does not match runtime version 3.6\n",
      "  return f(*args, **kwds)\n"
     ]
    }
   ],
   "source": [
    "import keras"
   ]
  },
  {
   "cell_type": "code",
   "execution_count": 2,
   "metadata": {
    "collapsed": true
   },
   "outputs": [],
   "source": [
    "from sklearn.metrics import confusion_matrix"
   ]
  },
  {
   "cell_type": "code",
   "execution_count": 3,
   "metadata": {
    "collapsed": true
   },
   "outputs": [],
   "source": [
    "import pandas as pd\n",
    "import numpy as np\n",
    "import pickle\n",
    "import os"
   ]
  },
  {
   "cell_type": "code",
   "execution_count": 4,
   "metadata": {
    "collapsed": true
   },
   "outputs": [],
   "source": [
    "#pickle_path = 'Pickled/Small_Train/'\n",
    "\n",
    "pickle_path = 'Pickled/Train_Data/'\n",
    "\n",
    "#pickle_path = 'Pickled/Test_Data/'"
   ]
  },
  {
   "cell_type": "markdown",
   "metadata": {},
   "source": [
    "# 3.1 -- Define Data Generator"
   ]
  },
  {
   "cell_type": "markdown",
   "metadata": {},
   "source": [
    "### Similar to before, get the log mean of all of the training data and feed into the Data_Gen() function."
   ]
  },
  {
   "cell_type": "code",
   "execution_count": 5,
   "metadata": {},
   "outputs": [
    {
     "name": "stdout",
     "output_type": "stream",
     "text": [
      "100.0% Complete\r"
     ]
    }
   ],
   "source": [
    "X_files = sorted(os.listdir(pickle_path + \"Spectra\"))\n",
    "num_files = len(X_files)\n",
    "count=0\n",
    "\n",
    "mean_list=[]\n",
    "\n",
    "for X_file in X_files:\n",
    "    \n",
    "    # X Data\n",
    "    file = open(pickle_path + \"Spectra/\" + X_file, \"rb\")\n",
    "    X=pickle.load(file)\n",
    "    file.close()\n",
    "    \n",
    "    mean_list.append(np.mean(np.log(X)))\n",
    "    \n",
    "    count+=1\n",
    "    percent_complete = round(count/num_files*100,1)\n",
    "    print(str(percent_complete) + '% Complete', end='\\r', flush=True)\n",
    "    \n",
    "mean_log_amplitude = np.mean(mean_list)"
   ]
  },
  {
   "cell_type": "code",
   "execution_count": 6,
   "metadata": {},
   "outputs": [
    {
     "name": "stdout",
     "output_type": "stream",
     "text": [
      "Mean: -10.189\n",
      "2 sigma: 0.062\n"
     ]
    }
   ],
   "source": [
    "print(\"Mean: \" + str(round(mean_log_amplitude,3)))\n",
    "print(\"2 sigma: \" + str(round(2*np.std(mean_list),3)))"
   ]
  },
  {
   "cell_type": "markdown",
   "metadata": {},
   "source": [
    "### Need to switch path to test data!"
   ]
  },
  {
   "cell_type": "code",
   "execution_count": 7,
   "metadata": {
    "collapsed": true
   },
   "outputs": [],
   "source": [
    "#pickle_path = 'Pickled/Small_Train/'\n",
    "\n",
    "#pickle_path = 'Pickled/Train_Data/'\n",
    "\n",
    "pickle_path = 'Pickled/Test_Data/'"
   ]
  },
  {
   "cell_type": "code",
   "execution_count": 8,
   "metadata": {
    "collapsed": true
   },
   "outputs": [],
   "source": [
    "# Returns i-th chunk of X,y data at path.\n",
    "def Data_Gen(X_path, y_path, mean_log_amplitude):\n",
    "    \n",
    "    # X data\n",
    "    file = open(pickle_path + \"Spectra/\" + X_path, \"rb\")\n",
    "    X=pickle.load(file)\n",
    "    file.close()\n",
    "    \n",
    "    X = np.stack((X,), -1)    \n",
    "    X = np.log(X) - mean_log_amplitude\n",
    "    \n",
    "    file = open(pickle_path + \"Targets/\" + y_path, \"rb\")\n",
    "    y=pickle.load(file)\n",
    "    file.close()\n",
    "    \n",
    "    # y data\n",
    "    y = keras.utils.np_utils.to_categorical(y)        \n",
    "    \n",
    "    return X,y"
   ]
  },
  {
   "cell_type": "markdown",
   "metadata": {},
   "source": [
    "# 3.2 Load & Test Previously Trained Model"
   ]
  },
  {
   "cell_type": "code",
   "execution_count": 9,
   "metadata": {
    "collapsed": true
   },
   "outputs": [],
   "source": [
    "model = keras.models.load_model(\"Model/Scratch_Aug_1_hrange_pm20_v3.h5\")"
   ]
  },
  {
   "cell_type": "markdown",
   "metadata": {},
   "source": [
    "### The above model was trained all all ~6.8 GB of data WITH augmentation performed 100% of the time."
   ]
  },
  {
   "cell_type": "code",
   "execution_count": 10,
   "metadata": {},
   "outputs": [
    {
     "name": "stdout",
     "output_type": "stream",
     "text": [
      "Working...\n",
      "100.0% complete\r"
     ]
    }
   ],
   "source": [
    "loss = []\n",
    "accuracy = []\n",
    "\n",
    "X_files = sorted(os.listdir(pickle_path + \"Spectra\"))\n",
    "y_files = sorted(os.listdir(pickle_path + \"Targets\"))\n",
    "iteration = 0\n",
    "\n",
    "print(\"Working...\")\n",
    "for X,y in zip(X_files, y_files):\n",
    "    \n",
    "    X_test, y_test = Data_Gen(X, y, mean_log_amplitude)            \n",
    "    results = model.evaluate(X_test, y_test, verbose=0)\n",
    "    \n",
    "    \n",
    "    loss.append(results[0])\n",
    "    accuracy.append(results[1])\n",
    "    \n",
    "    \n",
    "    iteration+=1\n",
    "    percent_complete = round(100*iteration/len(y_files), 2)\n",
    "    print(str(percent_complete) + '% complete', end='\\r', flush=True)\n",
    "    "
   ]
  },
  {
   "cell_type": "markdown",
   "metadata": {},
   "source": [
    "### Let's get some stats on the test data..."
   ]
  },
  {
   "cell_type": "code",
   "execution_count": 11,
   "metadata": {},
   "outputs": [
    {
     "name": "stdout",
     "output_type": "stream",
     "text": [
      "Mean Accuracy: 0.913\n",
      "2 sigma error: 0.022\n",
      "Mean Loss: 0.232\n",
      "2 sigma error: 0.056\n"
     ]
    }
   ],
   "source": [
    "print(\"Mean Accuracy: \" + str(round(np.mean(accuracy),3)))\n",
    "print(\"2 sigma error: \" + str(round(2*np.std(accuracy),3)))\n",
    "print(\"Mean Loss: \"     + str(round(np.mean(loss),3)))\n",
    "print(\"2 sigma error: \" + str(round(2*np.std(loss),3)))"
   ]
  },
  {
   "cell_type": "markdown",
   "metadata": {},
   "source": [
    "### This model gets an accuracy of $(91 \\pm 2)\\%$ at $2\\sigma$! This is a large improvement from transfer learning. However, knowing where the model fails is still of interest."
   ]
  },
  {
   "cell_type": "markdown",
   "metadata": {},
   "source": [
    "# 3.3 Confusion Matrix"
   ]
  },
  {
   "cell_type": "code",
   "execution_count": 12,
   "metadata": {},
   "outputs": [
    {
     "name": "stdout",
     "output_type": "stream",
     "text": [
      "100.0% complete\r"
     ]
    }
   ],
   "source": [
    "y_pred=[]\n",
    "y_true=[]\n",
    "\n",
    "iteration = 0\n",
    "\n",
    "for X,y in zip(X_files, y_files):\n",
    "    \n",
    "    X_test, y_test = Data_Gen(X, y, mean_log_amplitude)            \n",
    "    predicted_class=model.predict(X_test)\n",
    "\n",
    "    for predicted, true in zip(predicted_class, y_test):\n",
    "    \n",
    "        y_pred.append(np.argmax(predicted))\n",
    "        y_true.append(np.argmax(true))\n",
    "        \n",
    "    iteration+=1\n",
    "    percent_complete = round(100*iteration/len(y_files), 2)\n",
    "    print(str(percent_complete) + '% complete', end='\\r', flush=True)\n"
   ]
  },
  {
   "cell_type": "code",
   "execution_count": 13,
   "metadata": {
    "collapsed": true
   },
   "outputs": [],
   "source": [
    "CM = confusion_matrix(y_pred,y_true)\n",
    "\n",
    "CM = CM.astype('float') / CM.sum(axis=1)[:, np.newaxis]"
   ]
  },
  {
   "cell_type": "code",
   "execution_count": 14,
   "metadata": {
    "collapsed": true
   },
   "outputs": [],
   "source": [
    "import seaborn as sn\n",
    "import matplotlib.pyplot as plt"
   ]
  },
  {
   "cell_type": "code",
   "execution_count": 15,
   "metadata": {
    "scrolled": false
   },
   "outputs": [
    {
     "data": {
      "image/png": "[encoded data removed]",
      "text/plain": [
       "<Figure size 720x576 with 2 Axes>"
      ]
     },
     "metadata": {},
     "output_type": "display_data"
    }
   ],
   "source": [
    "plt.figure(figsize = (10,8))\n",
    "sn.set(font_scale=1.4)\n",
    "sn.heatmap(CM, annot=True, annot_kws={\"size\": 16}, fmt='.2f')\n",
    "plt.ylabel('Predicted Class')\n",
    "plt.xlabel('Actual Class')\n",
    "\n",
    "plt.show()"
   ]
  },
  {
   "cell_type": "markdown",
   "metadata": {},
   "source": [
    "### The confusion matrix reveals that: \n",
    "1. Classes 0, 3 and 5 have the best performance.\n",
    "2. Class 4 shows the worst performance.\n",
    "3. Classes 1 and 4 are most frequently mislabeled as each-other.\n",
    "\n"
   ]
  },
  {
   "cell_type": "markdown",
   "metadata": {},
   "source": [
    "# 3.4 Possible Future Steps"
   ]
  },
  {
   "cell_type": "markdown",
   "metadata": {},
   "source": [
    "### To get better performance one might try:"
   ]
  },
  {
   "cell_type": "markdown",
   "metadata": {},
   "source": [
    "1. Using data augmentation worked very well at fixing the generalization gap. Trying different transformations such as a horizontal flip or horizontal stretch might be an interesting way to train the data.\n",
    "2. Spend some time investigating classes 1 and 4 and try to get some insight as to why they are so commonly misclassified. This behavior was also observed when using transfer learning.\n",
    "3. Log-normalization of the dataset was useful. Research other audio processing techniques that might better represent the data for training."
   ]
  }
 ],
 "metadata": {
  "kernelspec": {
   "display_name": "Python (Tensorflow)",
   "language": "python",
   "name": "tensorflow"
  },
  "language_info": {
   "codemirror_mode": {
    "name": "ipython",
    "version": 3
   },
   "file_extension": ".py",
   "mimetype": "text/x-python",
   "name": "python",
   "nbconvert_exporter": "python",
   "pygments_lexer": "ipython3",
   "version": "3.6.4"
  }
 },
 "nbformat": 4,
 "nbformat_minor": 2
}
